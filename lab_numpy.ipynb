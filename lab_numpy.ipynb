{
 "cells": [
  {
   "cell_type": "markdown",
   "metadata": {},
   "source": [
    "# Introduction to NumPy\n",
    "\n",
    "\n",
    "#### 1. Import NumPy under the name np."
   ]
  },
  {
   "cell_type": "code",
   "execution_count": 1,
   "metadata": {},
   "outputs": [],
   "source": [
    "# your code here\n",
    "import numpy as np"
   ]
  },
  {
   "cell_type": "markdown",
   "metadata": {},
   "source": [
    "#### 2. Print your NumPy version."
   ]
  },
  {
   "cell_type": "code",
   "execution_count": 2,
   "metadata": {},
   "outputs": [
    {
     "name": "stdout",
     "output_type": "stream",
     "text": [
      "la versión es 1.24.3\n"
     ]
    }
   ],
   "source": [
    "# your code here\n",
    "\n",
    "np.version.version\n",
    "print(\"la versión es\", np.version.version)\n",
    "\n",
    "\n"
   ]
  },
  {
   "cell_type": "markdown",
   "metadata": {},
   "source": [
    "#### 3. Generate a 2x3x5 3-dimensional array with random values. Assign the array to variable *a*.\n",
    "**Challenge**: there are at least three easy ways that use numpy to generate random arrays. How many ways can you find?"
   ]
  },
  {
   "cell_type": "code",
   "execution_count": 3,
   "metadata": {},
   "outputs": [
    {
     "data": {
      "text/plain": [
       "array([[[0.2009703 , 0.36487833, 0.49989685, 0.55351613, 0.67461529],\n",
       "        [0.68663092, 0.50401361, 0.70315578, 0.97561038, 0.85114617],\n",
       "        [0.68997372, 0.83448763, 0.76045236, 0.12403124, 0.44323006]],\n",
       "\n",
       "       [[0.31842947, 0.92527859, 0.70936683, 0.75514941, 0.03006585],\n",
       "        [0.39619322, 0.12986757, 0.25571796, 0.30683772, 0.59575516],\n",
       "        [0.59805867, 0.62687285, 0.80090192, 0.89012554, 0.12214101]]])"
      ]
     },
     "execution_count": 3,
     "metadata": {},
     "output_type": "execute_result"
    }
   ],
   "source": [
    "# Method 1\n",
    "a = np.random.random((2,3,5))\n",
    "a\n",
    "\n",
    "\n",
    "# El paréntesis de fuera, es que es una función. El de dentro es que es una tupla"
   ]
  },
  {
   "cell_type": "code",
   "execution_count": 4,
   "metadata": {},
   "outputs": [
    {
     "data": {
      "text/plain": [
       "array([[[0.91496454, 0.6367238 , 0.02750314, 0.04295748, 0.89383701],\n",
       "        [0.43586331, 0.61754533, 0.61364266, 0.75508634, 0.73197442],\n",
       "        [0.56046429, 0.4411933 , 0.97522729, 0.18098172, 0.19758682]],\n",
       "\n",
       "       [[0.8078155 , 0.63106497, 0.3416993 , 0.23623986, 0.41020247],\n",
       "        [0.10277616, 0.47659889, 0.76937516, 0.00299069, 0.09674656],\n",
       "        [0.18124845, 0.16306631, 0.53574144, 0.67385849, 0.22445522]]])"
      ]
     },
     "execution_count": 4,
     "metadata": {},
     "output_type": "execute_result"
    }
   ],
   "source": [
    "# Method 2 en vez e random, rand y no meto una tupla sino int\n",
    "a2= np.random.rand(2,3,5)\n",
    "\n",
    "a2"
   ]
  },
  {
   "cell_type": "code",
   "execution_count": 5,
   "metadata": {},
   "outputs": [
    {
     "data": {
      "text/plain": [
       "array([[[0.0398671 , 0.69059607, 0.14134115, 0.03035606, 0.43315732],\n",
       "        [0.38553094, 0.38469581, 0.35426793, 0.73198532, 0.32070546],\n",
       "        [0.56592393, 0.91990384, 0.22242336, 0.65482606, 0.93693116]],\n",
       "\n",
       "       [[0.07920103, 0.33995857, 0.60538109, 0.6253042 , 0.7549574 ],\n",
       "        [0.07238913, 0.40635844, 0.63868162, 0.76917478, 0.26170041],\n",
       "        [0.20329285, 0.24468254, 0.04582399, 0.3312028 , 0.77064912]]])"
      ]
     },
     "execution_count": 5,
     "metadata": {},
     "output_type": "execute_result"
    }
   ],
   "source": [
    "# Method 3 en vez de random, randomom_sample\n",
    "a3=np.random.random_sample((2,3,5))\n",
    "a3"
   ]
  },
  {
   "cell_type": "markdown",
   "metadata": {},
   "source": [
    "#### 4. Print *a*.\n"
   ]
  },
  {
   "cell_type": "code",
   "execution_count": 6,
   "metadata": {},
   "outputs": [
    {
     "name": "stdout",
     "output_type": "stream",
     "text": [
      "[[[0.2009703  0.36487833 0.49989685 0.55351613 0.67461529]\n",
      "  [0.68663092 0.50401361 0.70315578 0.97561038 0.85114617]\n",
      "  [0.68997372 0.83448763 0.76045236 0.12403124 0.44323006]]\n",
      "\n",
      " [[0.31842947 0.92527859 0.70936683 0.75514941 0.03006585]\n",
      "  [0.39619322 0.12986757 0.25571796 0.30683772 0.59575516]\n",
      "  [0.59805867 0.62687285 0.80090192 0.89012554 0.12214101]]]\n"
     ]
    }
   ],
   "source": [
    "# your code here\n",
    "print (a)"
   ]
  },
  {
   "cell_type": "markdown",
   "metadata": {},
   "source": [
    "#### 5. Create a 5x2x3 3-dimensional array with all values equaling 1. Assign the array to variable *b*."
   ]
  },
  {
   "cell_type": "code",
   "execution_count": 7,
   "metadata": {},
   "outputs": [],
   "source": [
    "# your code here  \n",
    "b = np.ones((5,2,3))"
   ]
  },
  {
   "cell_type": "markdown",
   "metadata": {},
   "source": [
    "#### 6. Print *b*.\n"
   ]
  },
  {
   "cell_type": "code",
   "execution_count": 8,
   "metadata": {},
   "outputs": [
    {
     "name": "stdout",
     "output_type": "stream",
     "text": [
      "[[[1. 1. 1.]\n",
      "  [1. 1. 1.]]\n",
      "\n",
      " [[1. 1. 1.]\n",
      "  [1. 1. 1.]]\n",
      "\n",
      " [[1. 1. 1.]\n",
      "  [1. 1. 1.]]\n",
      "\n",
      " [[1. 1. 1.]\n",
      "  [1. 1. 1.]]\n",
      "\n",
      " [[1. 1. 1.]\n",
      "  [1. 1. 1.]]]\n"
     ]
    }
   ],
   "source": [
    "# your code here\n",
    "print(b)"
   ]
  },
  {
   "cell_type": "markdown",
   "metadata": {},
   "source": [
    "#### 7. Do *a* and *b* have the same size? How do you prove that in Python code?"
   ]
  },
  {
   "cell_type": "code",
   "execution_count": 9,
   "metadata": {},
   "outputs": [
    {
     "data": {
      "text/plain": [
       "True"
      ]
     },
     "execution_count": 9,
     "metadata": {},
     "output_type": "execute_result"
    }
   ],
   "source": [
    "# your code here\n",
    "b.size == a.size"
   ]
  },
  {
   "cell_type": "markdown",
   "metadata": {},
   "source": [
    "#### 8. Are you able to add *a* and *b*? Why or why not?\n"
   ]
  },
  {
   "cell_type": "code",
   "execution_count": 10,
   "metadata": {},
   "outputs": [
    {
     "ename": "ValueError",
     "evalue": "operands could not be broadcast together with shapes (2,3,5) (5,2,3) ",
     "output_type": "error",
     "traceback": [
      "\u001b[1;31m---------------------------------------------------------------------------\u001b[0m",
      "\u001b[1;31mValueError\u001b[0m                                Traceback (most recent call last)",
      "Cell \u001b[1;32mIn[10], line 2\u001b[0m\n\u001b[0;32m      1\u001b[0m \u001b[38;5;66;03m# your answer here\u001b[39;00m\n\u001b[1;32m----> 2\u001b[0m a\u001b[38;5;241m+\u001b[39mb\n",
      "\u001b[1;31mValueError\u001b[0m: operands could not be broadcast together with shapes (2,3,5) (5,2,3) "
     ]
    }
   ],
   "source": [
    "# your answer here\n",
    "a+b #se podría poner también np.add(a,b)\n",
    "#is not possible due the difference in the number of files/columns; the number of columns in the first one shall be the same as the number od files in the second one."
   ]
  },
  {
   "cell_type": "markdown",
   "metadata": {},
   "source": [
    "#### 9. Transpose *b* so that it has the same structure of *a* (i.e. become a 2x3x5 array). Assign the transposed array to variable *c*."
   ]
  },
  {
   "cell_type": "code",
   "execution_count": 11,
   "metadata": {},
   "outputs": [
    {
     "name": "stdout",
     "output_type": "stream",
     "text": [
      "[[[1. 1. 1. 1. 1.]\n",
      "  [1. 1. 1. 1. 1.]\n",
      "  [1. 1. 1. 1. 1.]]\n",
      "\n",
      " [[1. 1. 1. 1. 1.]\n",
      "  [1. 1. 1. 1. 1.]\n",
      "  [1. 1. 1. 1. 1.]]]\n"
     ]
    },
    {
     "data": {
      "text/plain": [
       "(2, 3, 5)"
      ]
     },
     "execution_count": 11,
     "metadata": {},
     "output_type": "execute_result"
    }
   ],
   "source": [
    "# your code here\n",
    "\n",
    "#si pongo b.T me da una e 3x2x5 \n",
    "\n",
    " #hay que cambiar el axis pa que salga de las dimensiones que queremos; axes=(1, 2, 0) es cambiar de la orginal (0,1,2)a como queremos reestructurarla.\n",
    "c=b.transpose(1,2,0)\n",
    "print (c)\n",
    "c.shape"
   ]
  },
  {
   "cell_type": "code",
   "execution_count": null,
   "metadata": {},
   "outputs": [],
   "source": []
  },
  {
   "cell_type": "markdown",
   "metadata": {},
   "source": [
    "#### 10. Try to add *a* and *c*. Now it should work. Assign the sum to variable *d*. But why does it work now?"
   ]
  },
  {
   "cell_type": "code",
   "execution_count": 12,
   "metadata": {},
   "outputs": [
    {
     "name": "stdout",
     "output_type": "stream",
     "text": [
      "[[[0.2009703  0.36487833 0.49989685 0.55351613 0.67461529]\n",
      "  [0.68663092 0.50401361 0.70315578 0.97561038 0.85114617]\n",
      "  [0.68997372 0.83448763 0.76045236 0.12403124 0.44323006]]\n",
      "\n",
      " [[0.31842947 0.92527859 0.70936683 0.75514941 0.03006585]\n",
      "  [0.39619322 0.12986757 0.25571796 0.30683772 0.59575516]\n",
      "  [0.59805867 0.62687285 0.80090192 0.89012554 0.12214101]]] (2, 3, 5)\n",
      "[[[1. 1. 1. 1. 1.]\n",
      "  [1. 1. 1. 1. 1.]\n",
      "  [1. 1. 1. 1. 1.]]\n",
      "\n",
      " [[1. 1. 1. 1. 1.]\n",
      "  [1. 1. 1. 1. 1.]\n",
      "  [1. 1. 1. 1. 1.]]] (2, 3, 5)\n",
      "[[[1.2009703  1.36487833 1.49989685 1.55351613 1.67461529]\n",
      "  [1.68663092 1.50401361 1.70315578 1.97561038 1.85114617]\n",
      "  [1.68997372 1.83448763 1.76045236 1.12403124 1.44323006]]\n",
      "\n",
      " [[1.31842947 1.92527859 1.70936683 1.75514941 1.03006585]\n",
      "  [1.39619322 1.12986757 1.25571796 1.30683772 1.59575516]\n",
      "  [1.59805867 1.62687285 1.80090192 1.89012554 1.12214101]]] (2, 3, 5)\n"
     ]
    }
   ],
   "source": [
    "# your code/answer here\n",
    "\n",
    "d= a+c\n",
    "d\n",
    "\n",
    "# the number of columns in the first one is the same as the number od files in the second one.\n",
    "\n",
    "print(a, a.shape)\n",
    "print(c, c.shape)\n",
    "print(d, d.shape)"
   ]
  },
  {
   "cell_type": "markdown",
   "metadata": {},
   "source": [
    "#### 11. Print *a* and *d*. Notice the difference and relation of the two array in terms of the values? Explain."
   ]
  },
  {
   "cell_type": "code",
   "execution_count": 13,
   "metadata": {},
   "outputs": [
    {
     "name": "stdout",
     "output_type": "stream",
     "text": [
      "[[[0.2009703  0.36487833 0.49989685 0.55351613 0.67461529]\n",
      "  [0.68663092 0.50401361 0.70315578 0.97561038 0.85114617]\n",
      "  [0.68997372 0.83448763 0.76045236 0.12403124 0.44323006]]\n",
      "\n",
      " [[0.31842947 0.92527859 0.70936683 0.75514941 0.03006585]\n",
      "  [0.39619322 0.12986757 0.25571796 0.30683772 0.59575516]\n",
      "  [0.59805867 0.62687285 0.80090192 0.89012554 0.12214101]]] \n",
      "\n",
      "This is d\n",
      " [[[1.2009703  1.36487833 1.49989685 1.55351613 1.67461529]\n",
      "  [1.68663092 1.50401361 1.70315578 1.97561038 1.85114617]\n",
      "  [1.68997372 1.83448763 1.76045236 1.12403124 1.44323006]]\n",
      "\n",
      " [[1.31842947 1.92527859 1.70936683 1.75514941 1.03006585]\n",
      "  [1.39619322 1.12986757 1.25571796 1.30683772 1.59575516]\n",
      "  [1.59805867 1.62687285 1.80090192 1.89012554 1.12214101]]]\n"
     ]
    }
   ],
   "source": [
    "# your code/answer here\n",
    "print(a, \"\\n\")\n",
    "\n",
    "print(\"This is d\\n\" , d)\n",
    "\n",
    "#each element in d is the same as the element in a plus 1"
   ]
  },
  {
   "cell_type": "markdown",
   "metadata": {},
   "source": [
    "#### 12. Multiply *a* and *c*. Assign the result to *e*."
   ]
  },
  {
   "cell_type": "code",
   "execution_count": 14,
   "metadata": {},
   "outputs": [
    {
     "data": {
      "text/plain": [
       "array([[[0.2009703 , 0.36487833, 0.49989685, 0.55351613, 0.67461529],\n",
       "        [0.68663092, 0.50401361, 0.70315578, 0.97561038, 0.85114617],\n",
       "        [0.68997372, 0.83448763, 0.76045236, 0.12403124, 0.44323006]],\n",
       "\n",
       "       [[0.31842947, 0.92527859, 0.70936683, 0.75514941, 0.03006585],\n",
       "        [0.39619322, 0.12986757, 0.25571796, 0.30683772, 0.59575516],\n",
       "        [0.59805867, 0.62687285, 0.80090192, 0.89012554, 0.12214101]]])"
      ]
     },
     "execution_count": 14,
     "metadata": {},
     "output_type": "execute_result"
    }
   ],
   "source": [
    "# your code here\n",
    "e =a*c #es lo mimsmo que np.mutiply(a,c)\n",
    "\n",
    "e\n"
   ]
  },
  {
   "cell_type": "markdown",
   "metadata": {},
   "source": [
    "#### 13. Does *e* equal to *a*? Why or why not?\n"
   ]
  },
  {
   "cell_type": "code",
   "execution_count": 15,
   "metadata": {},
   "outputs": [
    {
     "data": {
      "text/plain": [
       "False"
      ]
     },
     "execution_count": 15,
     "metadata": {},
     "output_type": "execute_result"
    }
   ],
   "source": [
    "# your code/answer here\n",
    "e is a\n",
    "\n",
    "#No, it is not the same eventhoug the values are the same. Ocupan distinto espacio de memoria\n"
   ]
  },
  {
   "cell_type": "code",
   "execution_count": 23,
   "metadata": {},
   "outputs": [
    {
     "data": {
      "text/plain": [
       "array([[[ True,  True,  True,  True,  True],\n",
       "        [ True,  True,  True,  True,  True],\n",
       "        [ True,  True,  True,  True,  True]],\n",
       "\n",
       "       [[ True,  True,  True,  True,  True],\n",
       "        [ True,  True,  True,  True,  True],\n",
       "        [ True,  True,  True,  True,  True]]])"
      ]
     },
     "execution_count": 23,
     "metadata": {},
     "output_type": "execute_result"
    }
   ],
   "source": []
  },
  {
   "cell_type": "markdown",
   "metadata": {},
   "source": [
    "#### 14. Identify the max, min, and mean values in *d*. Assign those values to variables *d_max*, *d_min* and *d_mean*."
   ]
  },
  {
   "cell_type": "code",
   "execution_count": 16,
   "metadata": {},
   "outputs": [
    {
     "name": "stdout",
     "output_type": "stream",
     "text": [
      "min 1.0300658496191604\n",
      "max 1.975610380469418\n",
      "mean 1.5442456848684254\n"
     ]
    }
   ],
   "source": [
    "# your code here\n",
    "d_max= d.max()\n",
    "d_min=d.min()\n",
    "d_mean=d.mean()\n",
    "print (\"min\",d_min)\n",
    "print (\"max\",d_max)\n",
    "print (\"mean\",d_mean)\n"
   ]
  },
  {
   "cell_type": "markdown",
   "metadata": {},
   "source": [
    "#### 15. Now we want to label the values in *d*. First create an empty array *f* with the same shape (i.e. 2x3x5) as *d* using `np.empty`.\n"
   ]
  },
  {
   "cell_type": "code",
   "execution_count": 17,
   "metadata": {},
   "outputs": [
    {
     "data": {
      "text/plain": [
       "array([[[0.2009703 , 0.36487833, 0.49989685, 0.55351613, 0.67461529],\n",
       "        [0.68663092, 0.50401361, 0.70315578, 0.97561038, 0.85114617],\n",
       "        [0.68997372, 0.83448763, 0.76045236, 0.12403124, 0.44323006]],\n",
       "\n",
       "       [[0.31842947, 0.92527859, 0.70936683, 0.75514941, 0.03006585],\n",
       "        [0.39619322, 0.12986757, 0.25571796, 0.30683772, 0.59575516],\n",
       "        [0.59805867, 0.62687285, 0.80090192, 0.89012554, 0.12214101]]])"
      ]
     },
     "execution_count": 17,
     "metadata": {},
     "output_type": "execute_result"
    }
   ],
   "source": [
    "# your code here \n",
    "\n",
    "f=np.empty((2,3,5))  #coge el último del que tiene memoria, no me lo da lleno de ceros. Solo me da ceros si lo hago al principio del todo.f está vacío\n",
    "f\n"
   ]
  },
  {
   "cell_type": "markdown",
   "metadata": {},
   "source": [
    "#### 16. Populate the values in *f*. \n",
    "\n",
    "For each value in *d*, if it's larger than *d_min* but smaller than *d_mean*, assign 25 to the corresponding value in *f*. If a value in *d* is larger than *d_mean* but smaller than *d_max*, assign 75 to the corresponding value in *f*. If a value equals to *d_mean*, assign 50 to the corresponding value in *f*. Assign 0 to the corresponding value(s) in *f* for *d_min* in *d*. Assign 100 to the corresponding value(s) in *f* for *d_max* in *d*. In the end, f should have only the following values: 0, 25, 50, 75, and 100.\n",
    "\n",
    "**Note**: you don't have to use Numpy in this question."
   ]
  },
  {
   "cell_type": "code",
   "execution_count": 45,
   "metadata": {},
   "outputs": [
    {
     "data": {
      "text/plain": [
       "array([[[75,  0,  0,  0,  0],\n",
       "        [ 0, 75,  0,  0,  0],\n",
       "        [ 0, 75, 75,  0,  0]],\n",
       "\n",
       "       [[ 0, 75, 75, 75,  0],\n",
       "        [ 0, 75,  0,  0, 75],\n",
       "        [ 0, 75, 75,  0, 75]]])"
      ]
     },
     "execution_count": 45,
     "metadata": {},
     "output_type": "execute_result"
    }
   ],
   "source": [
    "# your code here #me falta meter el d=dmin\n",
    "np.where(d == d_mean, 50, np.where(d< d_min, 25, np.where(d>d_mean,75, np.where(d==d_max,100,0)))) # con la condicion me das un 1, else 0"
   ]
  },
  {
   "cell_type": "markdown",
   "metadata": {},
   "source": [
    "#### 17. Print *d* and *f*. Do you have your expected *f*?\n",
    "For instance, if your *d* is:\n",
    "```python\n",
    "[[[1.85836099, 1.67064465, 1.62576044, 1.40243961, 1.88454931],\n",
    "[1.75354326, 1.69403643, 1.36729252, 1.61415071, 1.12104981],\n",
    "[1.72201435, 1.1862918 , 1.87078449, 1.7726778 , 1.88180042]],\n",
    "[[1.44747908, 1.31673383, 1.02000951, 1.52218947, 1.97066381],\n",
    "[1.79129243, 1.74983003, 1.96028037, 1.85166831, 1.65450881],\n",
    "[1.18068344, 1.9587381 , 1.00656599, 1.93402165, 1.73514584]]]\n",
    "```\n",
    "Your *f* should be:\n",
    "```python\n",
    "[[[ 75.,  75.,  75.,  25.,  75.],\n",
    "[ 75.,  75.,  25.,  25.,  25.],\n",
    "[ 75.,  25.,  75.,  75.,  75.]],\n",
    "[[ 25.,  25.,  25.,  25., 100.],\n",
    "[ 75.,  75.,  75.,  75.,  75.],\n",
    "[ 25.,  75.,   0.,  75.,  75.]]]\n",
    "```"
   ]
  },
  {
   "cell_type": "code",
   "execution_count": 46,
   "metadata": {},
   "outputs": [
    {
     "name": "stdout",
     "output_type": "stream",
     "text": [
      "[[[1.98319586 1.38312442 1.04528449 1.34847242 1.27292669]\n",
      "  [1.42051682 1.73272644 1.46057832 1.13743817 1.08831834]\n",
      "  [1.27298878 1.89608064 1.82008106 1.12689552 1.4213532 ]]\n",
      "\n",
      " [[1.00925844 1.78454418 1.87337737 1.97072684 1.33311005]\n",
      "  [1.21585971 1.50076915 1.4489035  1.33481848 1.6698966 ]\n",
      "  [1.13089982 1.51503955 1.69340701 1.03476078 1.96088428]]]\n",
      "[[[0.98319586 0.38312442 0.04528449 0.34847242 0.27292669]\n",
      "  [0.42051682 0.73272644 0.46057832 0.13743817 0.08831834]\n",
      "  [0.27298878 0.89608064 0.82008106 0.12689552 0.4213532 ]]\n",
      "\n",
      " [[0.00925844 0.78454418 0.87337737 0.97072684 0.33311005]\n",
      "  [0.21585971 0.50076915 0.4489035  0.33481848 0.6698966 ]\n",
      "  [0.13089982 0.51503955 0.69340701 0.03476078 0.96088428]]]\n"
     ]
    }
   ],
   "source": [
    "# your code here\n",
    "print (d)\n",
    "print(f)"
   ]
  },
  {
   "cell_type": "markdown",
   "metadata": {},
   "source": [
    "#### 18. Bonus question: instead of using numbers (i.e. 0, 25, 50, 75, and 100), use string values  (\"A\", \"B\", \"C\", \"D\", and \"E\") to label the array elements. For the example above, the expected result is:\n",
    "\n",
    "```python\n",
    "[[[ 'D',  'D',  'D',  'B',  'D'],\n",
    "[ 'D',  'D',  'B',  'B',  'B'],\n",
    "[ 'D',  'B',  'D',  'D',  'D']],\n",
    "[[ 'B',  'B',  'B',  'B',  'E'],\n",
    "[ 'D',  'D',  'D',  'D',  'D'],\n",
    "[ 'B',  'D',   'A',  'D', 'D']]]\n",
    "```\n",
    "**Note**: you don't have to use Numpy in this question."
   ]
  },
  {
   "cell_type": "code",
   "execution_count": 50,
   "metadata": {},
   "outputs": [
    {
     "data": {
      "text/plain": [
       "array([[['C', 'E', 'E', 'E', 'E'],\n",
       "        ['E', 'C', 'E', 'E', 'E'],\n",
       "        ['E', 'C', 'C', 'E', 'E']],\n",
       "\n",
       "       [['E', 'C', 'C', 'C', 'E'],\n",
       "        ['E', 'C', 'E', 'E', 'C'],\n",
       "        ['E', 'C', 'C', 'E', 'C']]], dtype='<U1')"
      ]
     },
     "execution_count": 50,
     "metadata": {},
     "output_type": "execute_result"
    }
   ],
   "source": [
    "# your code here: esto está mal\n",
    "np.where(d == d_mean, \"A\", np.where(d< d_min, \"B\", np.where(d>d_mean,\"C\", np.where(d==d_max,\"D\",\"E\"))))"
   ]
  },
  {
   "cell_type": "code",
   "execution_count": 48,
   "metadata": {},
   "outputs": [
    {
     "data": {
      "text/plain": [
       "array('[[[0.98319586 0.38312442 0.04528449 0.34847242 0.27292669]\\n  [0.42051682 0.73272644 0.46057832 0.13743817 0.08831834]\\n  [0.27298878 0.89608064 0.82008106 0.12689552 0.4213532 ]]\\n\\n [[0.00925844 0.78454418 0.87337737 0.97072684 0.33311005]\\n  [0.21585971 0.50076915 0.4489035  0.33481848 0.6698966 ]\\n  [0.13089982 0.51503955 0.69340701 0.03476078 0.96088428]]]',\n",
       "      dtype='<U357')"
      ]
     },
     "execution_count": 48,
     "metadata": {},
     "output_type": "execute_result"
    }
   ],
   "source": [
    "#primero convertir a string para que salga bien np.array(str(f))\n",
    "\n",
    "\n"
   ]
  },
  {
   "cell_type": "code",
   "execution_count": null,
   "metadata": {},
   "outputs": [],
   "source": []
  }
 ],
 "metadata": {
  "kernelspec": {
   "display_name": "Python 3 (ipykernel)",
   "language": "python",
   "name": "python3"
  },
  "language_info": {
   "codemirror_mode": {
    "name": "ipython",
    "version": 3
   },
   "file_extension": ".py",
   "mimetype": "text/x-python",
   "name": "python",
   "nbconvert_exporter": "python",
   "pygments_lexer": "ipython3",
   "version": "3.11.5"
  }
 },
 "nbformat": 4,
 "nbformat_minor": 2
}
